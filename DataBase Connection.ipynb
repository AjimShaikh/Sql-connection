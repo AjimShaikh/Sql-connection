{
 "cells": [
  {
   "cell_type": "code",
   "execution_count": 4,
   "id": "e89830f1",
   "metadata": {},
   "outputs": [],
   "source": [
    "#SQL CONNECTION"
   ]
  },
  {
   "cell_type": "code",
   "execution_count": 3,
   "id": "bbbf5e0a",
   "metadata": {},
   "outputs": [
    {
     "data": {
      "text/plain": [
       "[('10.4.20-MariaDB',)]"
      ]
     },
     "execution_count": 3,
     "metadata": {},
     "output_type": "execute_result"
    }
   ],
   "source": [
    "import mysql.connector\n",
    "db=mysql.connector.connect(host=\"localhost\",user=\"root\",password=\"\",database=\"demo\")\n",
    "cursor=db.cursor()\n",
    "cursor.execute(\"SELECT version()\")\n",
    "cursor.fetchall()\n"
   ]
  },
  {
   "cell_type": "code",
   "execution_count": 29,
   "id": "db538607",
   "metadata": {},
   "outputs": [],
   "source": [
    "sql = \"CREATE TABLE empp(first_name char(20) not null,last_name char(20),age int,marks float)\"\n",
    "cursor.execute(sql)"
   ]
  },
  {
   "cell_type": "code",
   "execution_count": 4,
   "id": "3392beda",
   "metadata": {},
   "outputs": [
    {
     "name": "stdout",
     "output_type": "stream",
     "text": [
      "Enter The first nameas\n",
      "Enter The last nameds\n",
      "Enter The first name8\n",
      "Enter The first name8\n"
     ]
    }
   ],
   "source": [
    "First_name=input(\"Enter The first name\")\n",
    "last_name=input(\"Enter The last name\")\n",
    "age=int(input(\"Enter The first name\"))\n",
    "marks=int(input(\"Enter The first name\"))\n",
    "sql_query = \"INSERT  into empp VALUES('%s','%s',%d,%f)\"%(First_name,last_name,age,marks)\n",
    "\n",
    "try:\n",
    "    cursor.execute(sql_query)\n",
    "    db.commit()\n",
    "except Exception as e:\n",
    "    print(\"error:\".e)\n",
    "    db.rollback()\n",
    "db.close()"
   ]
  },
  {
   "cell_type": "code",
   "execution_count": 7,
   "id": "05f86473",
   "metadata": {},
   "outputs": [
    {
     "name": "stdout",
     "output_type": "stream",
     "text": [
      "Enter The first nameaa\n",
      "Enter The last namea\n",
      "Enter The first name2\n",
      "Enter The first name2\n"
     ]
    }
   ],
   "source": [
    "First_name=input(\"Enter The first name\")\n",
    "last_name=input(\"Enter The last name\")\n",
    "age=int(input(\"Enter The first name\"))\n",
    "marks=int(input(\"Enter The first name\"))\n",
    "sql_query = \"INSERT  into empp VALUES('%s','%s',%d,%f)\"%(First_name,last_name,age,marks)\n",
    "\n",
    "try:\n",
    "    cursor.execute(sql_query)\n",
    "    db.commit()\n",
    "except Exception as e:\n",
    "    print(\"error:\".e)\n",
    "    db.rollback()\n",
    "    "
   ]
  },
  {
   "cell_type": "code",
   "execution_count": 14,
   "id": "20bd2842",
   "metadata": {},
   "outputs": [
    {
     "name": "stdout",
     "output_type": "stream",
     "text": [
      "('kds', 'ecom', '23', 25.0)\n",
      "('kds', 'ecom', '23', 25.0)\n",
      "('kds', 'ecom', '15', 25.0)\n"
     ]
    }
   ],
   "source": [
    "import mysql.connector\n",
    "db=mysql.connector.connect(host=\"localhost\",user=\"root\",password=\"\",database=\"demo\")\n",
    "cursor=db.cursor()\n",
    "select_data = \"select * from empp where first_name='kds'\"\n",
    "cursor.execute(select_data)\n",
    "result = cursor.fetchall()\n",
    "\n",
    "for results in result:\n",
    "    print(results)\n"
   ]
  },
  {
   "cell_type": "code",
   "execution_count": 17,
   "id": "9d4d7b16",
   "metadata": {},
   "outputs": [],
   "source": [
    "import mysql.connector\n",
    "db=mysql.connector.connect(host=\"localhost\",user=\"root\",password=\"\",database=\"demo\")\n",
    "cursor=db.cursor()\n",
    "delete_data = \"DELETE from empp WHERE first_name='gf'\"\n",
    "cursor.execute(delete_data)\n",
    "db.commit()"
   ]
  },
  {
   "cell_type": "code",
   "execution_count": null,
   "id": "dc11fdb6",
   "metadata": {},
   "outputs": [],
   "source": []
  }
 ],
 "metadata": {
  "kernelspec": {
   "display_name": "Python 3 (ipykernel)",
   "language": "python",
   "name": "python3"
  },
  "language_info": {
   "codemirror_mode": {
    "name": "ipython",
    "version": 3
   },
   "file_extension": ".py",
   "mimetype": "text/x-python",
   "name": "python",
   "nbconvert_exporter": "python",
   "pygments_lexer": "ipython3",
   "version": "3.9.12"
  }
 },
 "nbformat": 4,
 "nbformat_minor": 5
}
